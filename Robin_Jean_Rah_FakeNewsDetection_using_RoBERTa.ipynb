{
  "cells": [
    {
      "cell_type": "markdown",
      "metadata": {
        "id": "0ffa53ab"
      },
      "source": [
        "Import required Libraries"
      ],
      "id": "0ffa53ab"
    },
    {
      "cell_type": "code",
      "execution_count": 1,
      "metadata": {
        "colab": {
          "base_uri": "https://localhost:8080/"
        },
        "id": "HHU44Q5ebFwB",
        "outputId": "b81ffa55-dd58-482b-d551-ad17938c8928"
      },
      "outputs": [
        {
          "output_type": "stream",
          "name": "stdout",
          "text": [
            "Collecting transformers\n",
            "  Downloading transformers-4.32.1-py3-none-any.whl (7.5 MB)\n",
            "\u001b[2K     \u001b[90m━━━━━━━━━━━━━━━━━━━━━━━━━━━━━━━━━━━━━━━━\u001b[0m \u001b[32m7.5/7.5 MB\u001b[0m \u001b[31m21.5 MB/s\u001b[0m eta \u001b[36m0:00:00\u001b[0m\n",
            "\u001b[?25hRequirement already satisfied: filelock in /usr/local/lib/python3.10/dist-packages (from transformers) (3.12.2)\n",
            "Collecting huggingface-hub<1.0,>=0.15.1 (from transformers)\n",
            "  Downloading huggingface_hub-0.16.4-py3-none-any.whl (268 kB)\n",
            "\u001b[2K     \u001b[90m━━━━━━━━━━━━━━━━━━━━━━━━━━━━━━━━━━━━━━\u001b[0m \u001b[32m268.8/268.8 kB\u001b[0m \u001b[31m28.1 MB/s\u001b[0m eta \u001b[36m0:00:00\u001b[0m\n",
            "\u001b[?25hRequirement already satisfied: numpy>=1.17 in /usr/local/lib/python3.10/dist-packages (from transformers) (1.23.5)\n",
            "Requirement already satisfied: packaging>=20.0 in /usr/local/lib/python3.10/dist-packages (from transformers) (23.1)\n",
            "Requirement already satisfied: pyyaml>=5.1 in /usr/local/lib/python3.10/dist-packages (from transformers) (6.0.1)\n",
            "Requirement already satisfied: regex!=2019.12.17 in /usr/local/lib/python3.10/dist-packages (from transformers) (2023.6.3)\n",
            "Requirement already satisfied: requests in /usr/local/lib/python3.10/dist-packages (from transformers) (2.31.0)\n",
            "Collecting tokenizers!=0.11.3,<0.14,>=0.11.1 (from transformers)\n",
            "  Downloading tokenizers-0.13.3-cp310-cp310-manylinux_2_17_x86_64.manylinux2014_x86_64.whl (7.8 MB)\n",
            "\u001b[2K     \u001b[90m━━━━━━━━━━━━━━━━━━━━━━━━━━━━━━━━━━━━━━━━\u001b[0m \u001b[32m7.8/7.8 MB\u001b[0m \u001b[31m45.3 MB/s\u001b[0m eta \u001b[36m0:00:00\u001b[0m\n",
            "\u001b[?25hCollecting safetensors>=0.3.1 (from transformers)\n",
            "  Downloading safetensors-0.3.3-cp310-cp310-manylinux_2_17_x86_64.manylinux2014_x86_64.whl (1.3 MB)\n",
            "\u001b[2K     \u001b[90m━━━━━━━━━━━━━━━━━━━━━━━━━━━━━━━━━━━━━━━━\u001b[0m \u001b[32m1.3/1.3 MB\u001b[0m \u001b[31m63.1 MB/s\u001b[0m eta \u001b[36m0:00:00\u001b[0m\n",
            "\u001b[?25hRequirement already satisfied: tqdm>=4.27 in /usr/local/lib/python3.10/dist-packages (from transformers) (4.66.1)\n",
            "Requirement already satisfied: fsspec in /usr/local/lib/python3.10/dist-packages (from huggingface-hub<1.0,>=0.15.1->transformers) (2023.6.0)\n",
            "Requirement already satisfied: typing-extensions>=3.7.4.3 in /usr/local/lib/python3.10/dist-packages (from huggingface-hub<1.0,>=0.15.1->transformers) (4.7.1)\n",
            "Requirement already satisfied: charset-normalizer<4,>=2 in /usr/local/lib/python3.10/dist-packages (from requests->transformers) (3.2.0)\n",
            "Requirement already satisfied: idna<4,>=2.5 in /usr/local/lib/python3.10/dist-packages (from requests->transformers) (3.4)\n",
            "Requirement already satisfied: urllib3<3,>=1.21.1 in /usr/local/lib/python3.10/dist-packages (from requests->transformers) (2.0.4)\n",
            "Requirement already satisfied: certifi>=2017.4.17 in /usr/local/lib/python3.10/dist-packages (from requests->transformers) (2023.7.22)\n",
            "Installing collected packages: tokenizers, safetensors, huggingface-hub, transformers\n",
            "Successfully installed huggingface-hub-0.16.4 safetensors-0.3.3 tokenizers-0.13.3 transformers-4.32.1\n"
          ]
        }
      ],
      "source": [
        "!pip install transformers"
      ],
      "id": "HHU44Q5ebFwB"
    },
    {
      "cell_type": "code",
      "source": [
        "!pip install torch torchvision"
      ],
      "metadata": {
        "colab": {
          "base_uri": "https://localhost:8080/"
        },
        "id": "x-0X2-kZJdkf",
        "outputId": "83d821d7-b3ee-48b4-b4f7-c1cca4dc0c7a"
      },
      "id": "x-0X2-kZJdkf",
      "execution_count": 2,
      "outputs": [
        {
          "output_type": "stream",
          "name": "stdout",
          "text": [
            "Requirement already satisfied: torch in /usr/local/lib/python3.10/dist-packages (2.0.1+cu118)\n",
            "Requirement already satisfied: torchvision in /usr/local/lib/python3.10/dist-packages (0.15.2+cu118)\n",
            "Requirement already satisfied: filelock in /usr/local/lib/python3.10/dist-packages (from torch) (3.12.2)\n",
            "Requirement already satisfied: typing-extensions in /usr/local/lib/python3.10/dist-packages (from torch) (4.7.1)\n",
            "Requirement already satisfied: sympy in /usr/local/lib/python3.10/dist-packages (from torch) (1.12)\n",
            "Requirement already satisfied: networkx in /usr/local/lib/python3.10/dist-packages (from torch) (3.1)\n",
            "Requirement already satisfied: jinja2 in /usr/local/lib/python3.10/dist-packages (from torch) (3.1.2)\n",
            "Requirement already satisfied: triton==2.0.0 in /usr/local/lib/python3.10/dist-packages (from torch) (2.0.0)\n",
            "Requirement already satisfied: cmake in /usr/local/lib/python3.10/dist-packages (from triton==2.0.0->torch) (3.27.2)\n",
            "Requirement already satisfied: lit in /usr/local/lib/python3.10/dist-packages (from triton==2.0.0->torch) (16.0.6)\n",
            "Requirement already satisfied: numpy in /usr/local/lib/python3.10/dist-packages (from torchvision) (1.23.5)\n",
            "Requirement already satisfied: requests in /usr/local/lib/python3.10/dist-packages (from torchvision) (2.31.0)\n",
            "Requirement already satisfied: pillow!=8.3.*,>=5.3.0 in /usr/local/lib/python3.10/dist-packages (from torchvision) (9.4.0)\n",
            "Requirement already satisfied: MarkupSafe>=2.0 in /usr/local/lib/python3.10/dist-packages (from jinja2->torch) (2.1.3)\n",
            "Requirement already satisfied: charset-normalizer<4,>=2 in /usr/local/lib/python3.10/dist-packages (from requests->torchvision) (3.2.0)\n",
            "Requirement already satisfied: idna<4,>=2.5 in /usr/local/lib/python3.10/dist-packages (from requests->torchvision) (3.4)\n",
            "Requirement already satisfied: urllib3<3,>=1.21.1 in /usr/local/lib/python3.10/dist-packages (from requests->torchvision) (2.0.4)\n",
            "Requirement already satisfied: certifi>=2017.4.17 in /usr/local/lib/python3.10/dist-packages (from requests->torchvision) (2023.7.22)\n",
            "Requirement already satisfied: mpmath>=0.19 in /usr/local/lib/python3.10/dist-packages (from sympy->torch) (1.3.0)\n"
          ]
        }
      ]
    },
    {
      "cell_type": "code",
      "source": [
        "import torch\n",
        "print(torch.__version__)"
      ],
      "metadata": {
        "colab": {
          "base_uri": "https://localhost:8080/"
        },
        "id": "VhAW8DJaJ8Hv",
        "outputId": "49ce3c74-0a05-4afe-931f-f97cd53ca5c7"
      },
      "id": "VhAW8DJaJ8Hv",
      "execution_count": 3,
      "outputs": [
        {
          "output_type": "stream",
          "name": "stdout",
          "text": [
            "2.0.1+cu118\n"
          ]
        }
      ]
    },
    {
      "cell_type": "code",
      "execution_count": 4,
      "metadata": {
        "id": "a124b3d6"
      },
      "outputs": [],
      "source": [
        "import pandas as pd\n",
        "import numpy as np\n",
        "import torch\n",
        "import torch.nn as nn\n",
        "import torch.utils.data\n",
        "from sklearn.model_selection import train_test_split\n",
        "import transformers\n",
        "from transformers import BertTokenizer, BertForSequenceClassification, AutoTokenizer, AutoModelForSequenceClassification\n",
        "from sklearn.metrics import accuracy_score, precision_score, recall_score, f1_score\n",
        "from torch import optim"
      ],
      "id": "a124b3d6"
    },
    {
      "cell_type": "markdown",
      "metadata": {
        "id": "6b61eea1"
      },
      "source": [
        "# Load and Preprocess Data"
      ],
      "id": "6b61eea1"
    },
    {
      "cell_type": "code",
      "source": [
        "from google.colab import drive\n",
        "drive.mount('/content/drive')"
      ],
      "metadata": {
        "colab": {
          "base_uri": "https://localhost:8080/"
        },
        "id": "gqHDs9hNJ9Hy",
        "outputId": "e28ca309-a3e8-451e-e770-13e231dc305c"
      },
      "id": "gqHDs9hNJ9Hy",
      "execution_count": 5,
      "outputs": [
        {
          "output_type": "stream",
          "name": "stdout",
          "text": [
            "Mounted at /content/drive\n"
          ]
        }
      ]
    },
    {
      "cell_type": "markdown",
      "metadata": {
        "id": "6b56a3db"
      },
      "source": [
        "Load the dataset"
      ],
      "id": "6b56a3db"
    },
    {
      "cell_type": "code",
      "execution_count": 8,
      "metadata": {
        "id": "fa77913c"
      },
      "outputs": [],
      "source": [
        "buzzfeed_fake_content = pd.read_csv(\"/content/drive/My Drive/Fake_Real_news_dataset/BuzzFeed_fake_news_content.csv\")\n",
        "buzzfeed_real_content = pd.read_csv(\"/content/drive/My Drive/Fake_Real_news_dataset/BuzzFeed_real_news_content.csv\")\n",
        "politifact_fake_content = pd.read_csv(\"/content/drive/My Drive/Fake_Real_news_dataset/PolitiFact_fake_news_content.csv\")\n",
        "politifact_real_content = pd.read_csv(\"/content/drive/My Drive/Fake_Real_news_dataset//PolitiFact_real_news_content.csv\")"
      ],
      "id": "fa77913c"
    },
    {
      "cell_type": "markdown",
      "metadata": {
        "id": "058cea88"
      },
      "source": [
        "Create labels (0 for fake, 1 for real)"
      ],
      "id": "058cea88"
    },
    {
      "cell_type": "code",
      "execution_count": 9,
      "metadata": {
        "id": "566123dd"
      },
      "outputs": [],
      "source": [
        "buzzfeed_fake_content['label']=0\n",
        "buzzfeed_real_content['label']=1\n",
        "politifact_fake_content['label']=0\n",
        "politifact_real_content['label']=1"
      ],
      "id": "566123dd"
    },
    {
      "cell_type": "code",
      "execution_count": 10,
      "metadata": {
        "colab": {
          "base_uri": "https://localhost:8080/",
          "height": 547
        },
        "id": "46603ca7",
        "outputId": "0142ab8a-3f8d-4981-918c-fea3c66e06b6"
      },
      "outputs": [
        {
          "output_type": "execute_result",
          "data": {
            "text/plain": [
              "                id                                              title  \\\n",
              "0   Fake_1-Webpage  Proof The Mainstream Media Is Manipulating The...   \n",
              "1  Fake_10-Webpage  Charity: Clinton Foundation Distributed “Water...   \n",
              "2  Fake_11-Webpage  A Hillary Clinton Administration May be Entire...   \n",
              "3  Fake_12-Webpage  Trump’s Latest Campaign Promise May Be His Mos...   \n",
              "4  Fake_13-Webpage                    Website is Down For Maintenance   \n",
              "\n",
              "                                                text  \\\n",
              "0  I woke up this morning to find a variation of ...   \n",
              "1  Former President Bill Clinton and his Clinton ...   \n",
              "2  After collapsing just before trying to step in...   \n",
              "3  Donald Trump is, well, deplorable. He’s sugges...   \n",
              "4                    Website is Down For Maintenance   \n",
              "\n",
              "                                                 url  \\\n",
              "0  http://www.addictinginfo.org/2016/09/19/proof-...   \n",
              "1  http://eaglerising.com/36899/charity-clinton-f...   \n",
              "2  http://eaglerising.com/36880/a-hillary-clinton...   \n",
              "3  http://www.addictinginfo.org/2016/09/19/trumps...   \n",
              "4  http://www.proudcons.com/clinton-foundation-ca...   \n",
              "\n",
              "                                             top_img  \\\n",
              "0  http://addictinginfo.addictinginfoent.netdna-c...   \n",
              "1  http://eaglerising.com/wp-content/uploads/2016...   \n",
              "2  http://eaglerising.com/wp-content/uploads/2016...   \n",
              "3  http://addictinginfo.addictinginfoent.netdna-c...   \n",
              "4                                                NaN   \n",
              "\n",
              "                       authors                        source  \\\n",
              "0              Wendy Gittleson  http://www.addictinginfo.org   \n",
              "1               View All Posts        http://eaglerising.com   \n",
              "2  View All Posts,Tony Elliott        http://eaglerising.com   \n",
              "3                  John Prager  http://www.addictinginfo.org   \n",
              "4                          NaN      http://www.proudcons.com   \n",
              "\n",
              "               publish_date movies  \\\n",
              "0  {'$date': 1474243200000}    NaN   \n",
              "1  {'$date': 1474416521000}    NaN   \n",
              "2  {'$date': 1474416638000}    NaN   \n",
              "3  {'$date': 1474243200000}    NaN   \n",
              "4                       NaN    NaN   \n",
              "\n",
              "                                              images  \\\n",
              "0  http://i.imgur.com/JeqZLhj.png,http://addictin...   \n",
              "1  http://constitution.com/wp-content/uploads/201...   \n",
              "2  http://constitution.com/wp-content/uploads/201...   \n",
              "3  http://i.imgur.com/JeqZLhj.png,http://2.gravat...   \n",
              "4                                                NaN   \n",
              "\n",
              "                                      canonical_link  \\\n",
              "0  http://addictinginfo.com/2016/09/19/proof-the-...   \n",
              "1  http://eaglerising.com/36899/charity-clinton-f...   \n",
              "2  http://eaglerising.com/36880/a-hillary-clinton...   \n",
              "3  http://addictinginfo.com/2016/09/19/trumps-lat...   \n",
              "4                                                NaN   \n",
              "\n",
              "                                           meta_data  label  \n",
              "0  {\"publisher\": \"Addicting Info | The Knowledge ...      0  \n",
              "1  {\"description\": \"The possibility that CHAI dis...      0  \n",
              "2  {\"description\": \"Hillary Clinton may be the fi...      0  \n",
              "3  {\"publisher\": \"Addicting Info | The Knowledge ...      0  \n",
              "4  {\"og\": {\"url\": \"http://www.proudcons.com\", \"ty...      0  "
            ],
            "text/html": [
              "\n",
              "  <div id=\"df-6c71a8a9-4550-4883-b9d8-f576cefc4a04\" class=\"colab-df-container\">\n",
              "    <div>\n",
              "<style scoped>\n",
              "    .dataframe tbody tr th:only-of-type {\n",
              "        vertical-align: middle;\n",
              "    }\n",
              "\n",
              "    .dataframe tbody tr th {\n",
              "        vertical-align: top;\n",
              "    }\n",
              "\n",
              "    .dataframe thead th {\n",
              "        text-align: right;\n",
              "    }\n",
              "</style>\n",
              "<table border=\"1\" class=\"dataframe\">\n",
              "  <thead>\n",
              "    <tr style=\"text-align: right;\">\n",
              "      <th></th>\n",
              "      <th>id</th>\n",
              "      <th>title</th>\n",
              "      <th>text</th>\n",
              "      <th>url</th>\n",
              "      <th>top_img</th>\n",
              "      <th>authors</th>\n",
              "      <th>source</th>\n",
              "      <th>publish_date</th>\n",
              "      <th>movies</th>\n",
              "      <th>images</th>\n",
              "      <th>canonical_link</th>\n",
              "      <th>meta_data</th>\n",
              "      <th>label</th>\n",
              "    </tr>\n",
              "  </thead>\n",
              "  <tbody>\n",
              "    <tr>\n",
              "      <th>0</th>\n",
              "      <td>Fake_1-Webpage</td>\n",
              "      <td>Proof The Mainstream Media Is Manipulating The...</td>\n",
              "      <td>I woke up this morning to find a variation of ...</td>\n",
              "      <td>http://www.addictinginfo.org/2016/09/19/proof-...</td>\n",
              "      <td>http://addictinginfo.addictinginfoent.netdna-c...</td>\n",
              "      <td>Wendy Gittleson</td>\n",
              "      <td>http://www.addictinginfo.org</td>\n",
              "      <td>{'$date': 1474243200000}</td>\n",
              "      <td>NaN</td>\n",
              "      <td>http://i.imgur.com/JeqZLhj.png,http://addictin...</td>\n",
              "      <td>http://addictinginfo.com/2016/09/19/proof-the-...</td>\n",
              "      <td>{\"publisher\": \"Addicting Info | The Knowledge ...</td>\n",
              "      <td>0</td>\n",
              "    </tr>\n",
              "    <tr>\n",
              "      <th>1</th>\n",
              "      <td>Fake_10-Webpage</td>\n",
              "      <td>Charity: Clinton Foundation Distributed “Water...</td>\n",
              "      <td>Former President Bill Clinton and his Clinton ...</td>\n",
              "      <td>http://eaglerising.com/36899/charity-clinton-f...</td>\n",
              "      <td>http://eaglerising.com/wp-content/uploads/2016...</td>\n",
              "      <td>View All Posts</td>\n",
              "      <td>http://eaglerising.com</td>\n",
              "      <td>{'$date': 1474416521000}</td>\n",
              "      <td>NaN</td>\n",
              "      <td>http://constitution.com/wp-content/uploads/201...</td>\n",
              "      <td>http://eaglerising.com/36899/charity-clinton-f...</td>\n",
              "      <td>{\"description\": \"The possibility that CHAI dis...</td>\n",
              "      <td>0</td>\n",
              "    </tr>\n",
              "    <tr>\n",
              "      <th>2</th>\n",
              "      <td>Fake_11-Webpage</td>\n",
              "      <td>A Hillary Clinton Administration May be Entire...</td>\n",
              "      <td>After collapsing just before trying to step in...</td>\n",
              "      <td>http://eaglerising.com/36880/a-hillary-clinton...</td>\n",
              "      <td>http://eaglerising.com/wp-content/uploads/2016...</td>\n",
              "      <td>View All Posts,Tony Elliott</td>\n",
              "      <td>http://eaglerising.com</td>\n",
              "      <td>{'$date': 1474416638000}</td>\n",
              "      <td>NaN</td>\n",
              "      <td>http://constitution.com/wp-content/uploads/201...</td>\n",
              "      <td>http://eaglerising.com/36880/a-hillary-clinton...</td>\n",
              "      <td>{\"description\": \"Hillary Clinton may be the fi...</td>\n",
              "      <td>0</td>\n",
              "    </tr>\n",
              "    <tr>\n",
              "      <th>3</th>\n",
              "      <td>Fake_12-Webpage</td>\n",
              "      <td>Trump’s Latest Campaign Promise May Be His Mos...</td>\n",
              "      <td>Donald Trump is, well, deplorable. He’s sugges...</td>\n",
              "      <td>http://www.addictinginfo.org/2016/09/19/trumps...</td>\n",
              "      <td>http://addictinginfo.addictinginfoent.netdna-c...</td>\n",
              "      <td>John Prager</td>\n",
              "      <td>http://www.addictinginfo.org</td>\n",
              "      <td>{'$date': 1474243200000}</td>\n",
              "      <td>NaN</td>\n",
              "      <td>http://i.imgur.com/JeqZLhj.png,http://2.gravat...</td>\n",
              "      <td>http://addictinginfo.com/2016/09/19/trumps-lat...</td>\n",
              "      <td>{\"publisher\": \"Addicting Info | The Knowledge ...</td>\n",
              "      <td>0</td>\n",
              "    </tr>\n",
              "    <tr>\n",
              "      <th>4</th>\n",
              "      <td>Fake_13-Webpage</td>\n",
              "      <td>Website is Down For Maintenance</td>\n",
              "      <td>Website is Down For Maintenance</td>\n",
              "      <td>http://www.proudcons.com/clinton-foundation-ca...</td>\n",
              "      <td>NaN</td>\n",
              "      <td>NaN</td>\n",
              "      <td>http://www.proudcons.com</td>\n",
              "      <td>NaN</td>\n",
              "      <td>NaN</td>\n",
              "      <td>NaN</td>\n",
              "      <td>NaN</td>\n",
              "      <td>{\"og\": {\"url\": \"http://www.proudcons.com\", \"ty...</td>\n",
              "      <td>0</td>\n",
              "    </tr>\n",
              "  </tbody>\n",
              "</table>\n",
              "</div>\n",
              "    <div class=\"colab-df-buttons\">\n",
              "\n",
              "  <div class=\"colab-df-container\">\n",
              "    <button class=\"colab-df-convert\" onclick=\"convertToInteractive('df-6c71a8a9-4550-4883-b9d8-f576cefc4a04')\"\n",
              "            title=\"Convert this dataframe to an interactive table.\"\n",
              "            style=\"display:none;\">\n",
              "\n",
              "  <svg xmlns=\"http://www.w3.org/2000/svg\" height=\"24px\" viewBox=\"0 -960 960 960\">\n",
              "    <path d=\"M120-120v-720h720v720H120Zm60-500h600v-160H180v160Zm220 220h160v-160H400v160Zm0 220h160v-160H400v160ZM180-400h160v-160H180v160Zm440 0h160v-160H620v160ZM180-180h160v-160H180v160Zm440 0h160v-160H620v160Z\"/>\n",
              "  </svg>\n",
              "    </button>\n",
              "\n",
              "  <style>\n",
              "    .colab-df-container {\n",
              "      display:flex;\n",
              "      gap: 12px;\n",
              "    }\n",
              "\n",
              "    .colab-df-convert {\n",
              "      background-color: #E8F0FE;\n",
              "      border: none;\n",
              "      border-radius: 50%;\n",
              "      cursor: pointer;\n",
              "      display: none;\n",
              "      fill: #1967D2;\n",
              "      height: 32px;\n",
              "      padding: 0 0 0 0;\n",
              "      width: 32px;\n",
              "    }\n",
              "\n",
              "    .colab-df-convert:hover {\n",
              "      background-color: #E2EBFA;\n",
              "      box-shadow: 0px 1px 2px rgba(60, 64, 67, 0.3), 0px 1px 3px 1px rgba(60, 64, 67, 0.15);\n",
              "      fill: #174EA6;\n",
              "    }\n",
              "\n",
              "    .colab-df-buttons div {\n",
              "      margin-bottom: 4px;\n",
              "    }\n",
              "\n",
              "    [theme=dark] .colab-df-convert {\n",
              "      background-color: #3B4455;\n",
              "      fill: #D2E3FC;\n",
              "    }\n",
              "\n",
              "    [theme=dark] .colab-df-convert:hover {\n",
              "      background-color: #434B5C;\n",
              "      box-shadow: 0px 1px 3px 1px rgba(0, 0, 0, 0.15);\n",
              "      filter: drop-shadow(0px 1px 2px rgba(0, 0, 0, 0.3));\n",
              "      fill: #FFFFFF;\n",
              "    }\n",
              "  </style>\n",
              "\n",
              "    <script>\n",
              "      const buttonEl =\n",
              "        document.querySelector('#df-6c71a8a9-4550-4883-b9d8-f576cefc4a04 button.colab-df-convert');\n",
              "      buttonEl.style.display =\n",
              "        google.colab.kernel.accessAllowed ? 'block' : 'none';\n",
              "\n",
              "      async function convertToInteractive(key) {\n",
              "        const element = document.querySelector('#df-6c71a8a9-4550-4883-b9d8-f576cefc4a04');\n",
              "        const dataTable =\n",
              "          await google.colab.kernel.invokeFunction('convertToInteractive',\n",
              "                                                    [key], {});\n",
              "        if (!dataTable) return;\n",
              "\n",
              "        const docLinkHtml = 'Like what you see? Visit the ' +\n",
              "          '<a target=\"_blank\" href=https://colab.research.google.com/notebooks/data_table.ipynb>data table notebook</a>'\n",
              "          + ' to learn more about interactive tables.';\n",
              "        element.innerHTML = '';\n",
              "        dataTable['output_type'] = 'display_data';\n",
              "        await google.colab.output.renderOutput(dataTable, element);\n",
              "        const docLink = document.createElement('div');\n",
              "        docLink.innerHTML = docLinkHtml;\n",
              "        element.appendChild(docLink);\n",
              "      }\n",
              "    </script>\n",
              "  </div>\n",
              "\n",
              "\n",
              "<div id=\"df-93fd5302-e64c-4f1f-a6e2-729b6463ae5a\">\n",
              "  <button class=\"colab-df-quickchart\" onclick=\"quickchart('df-93fd5302-e64c-4f1f-a6e2-729b6463ae5a')\"\n",
              "            title=\"Suggest charts.\"\n",
              "            style=\"display:none;\">\n",
              "\n",
              "<svg xmlns=\"http://www.w3.org/2000/svg\" height=\"24px\"viewBox=\"0 0 24 24\"\n",
              "     width=\"24px\">\n",
              "    <g>\n",
              "        <path d=\"M19 3H5c-1.1 0-2 .9-2 2v14c0 1.1.9 2 2 2h14c1.1 0 2-.9 2-2V5c0-1.1-.9-2-2-2zM9 17H7v-7h2v7zm4 0h-2V7h2v10zm4 0h-2v-4h2v4z\"/>\n",
              "    </g>\n",
              "</svg>\n",
              "  </button>\n",
              "\n",
              "<style>\n",
              "  .colab-df-quickchart {\n",
              "      --bg-color: #E8F0FE;\n",
              "      --fill-color: #1967D2;\n",
              "      --hover-bg-color: #E2EBFA;\n",
              "      --hover-fill-color: #174EA6;\n",
              "      --disabled-fill-color: #AAA;\n",
              "      --disabled-bg-color: #DDD;\n",
              "  }\n",
              "\n",
              "  [theme=dark] .colab-df-quickchart {\n",
              "      --bg-color: #3B4455;\n",
              "      --fill-color: #D2E3FC;\n",
              "      --hover-bg-color: #434B5C;\n",
              "      --hover-fill-color: #FFFFFF;\n",
              "      --disabled-bg-color: #3B4455;\n",
              "      --disabled-fill-color: #666;\n",
              "  }\n",
              "\n",
              "  .colab-df-quickchart {\n",
              "    background-color: var(--bg-color);\n",
              "    border: none;\n",
              "    border-radius: 50%;\n",
              "    cursor: pointer;\n",
              "    display: none;\n",
              "    fill: var(--fill-color);\n",
              "    height: 32px;\n",
              "    padding: 0;\n",
              "    width: 32px;\n",
              "  }\n",
              "\n",
              "  .colab-df-quickchart:hover {\n",
              "    background-color: var(--hover-bg-color);\n",
              "    box-shadow: 0 1px 2px rgba(60, 64, 67, 0.3), 0 1px 3px 1px rgba(60, 64, 67, 0.15);\n",
              "    fill: var(--button-hover-fill-color);\n",
              "  }\n",
              "\n",
              "  .colab-df-quickchart-complete:disabled,\n",
              "  .colab-df-quickchart-complete:disabled:hover {\n",
              "    background-color: var(--disabled-bg-color);\n",
              "    fill: var(--disabled-fill-color);\n",
              "    box-shadow: none;\n",
              "  }\n",
              "\n",
              "  .colab-df-spinner {\n",
              "    border: 2px solid var(--fill-color);\n",
              "    border-color: transparent;\n",
              "    border-bottom-color: var(--fill-color);\n",
              "    animation:\n",
              "      spin 1s steps(1) infinite;\n",
              "  }\n",
              "\n",
              "  @keyframes spin {\n",
              "    0% {\n",
              "      border-color: transparent;\n",
              "      border-bottom-color: var(--fill-color);\n",
              "      border-left-color: var(--fill-color);\n",
              "    }\n",
              "    20% {\n",
              "      border-color: transparent;\n",
              "      border-left-color: var(--fill-color);\n",
              "      border-top-color: var(--fill-color);\n",
              "    }\n",
              "    30% {\n",
              "      border-color: transparent;\n",
              "      border-left-color: var(--fill-color);\n",
              "      border-top-color: var(--fill-color);\n",
              "      border-right-color: var(--fill-color);\n",
              "    }\n",
              "    40% {\n",
              "      border-color: transparent;\n",
              "      border-right-color: var(--fill-color);\n",
              "      border-top-color: var(--fill-color);\n",
              "    }\n",
              "    60% {\n",
              "      border-color: transparent;\n",
              "      border-right-color: var(--fill-color);\n",
              "    }\n",
              "    80% {\n",
              "      border-color: transparent;\n",
              "      border-right-color: var(--fill-color);\n",
              "      border-bottom-color: var(--fill-color);\n",
              "    }\n",
              "    90% {\n",
              "      border-color: transparent;\n",
              "      border-bottom-color: var(--fill-color);\n",
              "    }\n",
              "  }\n",
              "</style>\n",
              "\n",
              "  <script>\n",
              "    async function quickchart(key) {\n",
              "      const quickchartButtonEl =\n",
              "        document.querySelector('#' + key + ' button');\n",
              "      quickchartButtonEl.disabled = true;  // To prevent multiple clicks.\n",
              "      quickchartButtonEl.classList.add('colab-df-spinner');\n",
              "      try {\n",
              "        const charts = await google.colab.kernel.invokeFunction(\n",
              "            'suggestCharts', [key], {});\n",
              "      } catch (error) {\n",
              "        console.error('Error during call to suggestCharts:', error);\n",
              "      }\n",
              "      quickchartButtonEl.classList.remove('colab-df-spinner');\n",
              "      quickchartButtonEl.classList.add('colab-df-quickchart-complete');\n",
              "    }\n",
              "    (() => {\n",
              "      let quickchartButtonEl =\n",
              "        document.querySelector('#df-93fd5302-e64c-4f1f-a6e2-729b6463ae5a button');\n",
              "      quickchartButtonEl.style.display =\n",
              "        google.colab.kernel.accessAllowed ? 'block' : 'none';\n",
              "    })();\n",
              "  </script>\n",
              "</div>\n",
              "    </div>\n",
              "  </div>\n"
            ]
          },
          "metadata": {},
          "execution_count": 10
        }
      ],
      "source": [
        "buzzfeed_fake_content.head()"
      ],
      "id": "46603ca7"
    },
    {
      "cell_type": "markdown",
      "metadata": {
        "id": "4fdf0500"
      },
      "source": [
        "Combine real and fake news content"
      ],
      "id": "4fdf0500"
    },
    {
      "cell_type": "code",
      "execution_count": 39,
      "metadata": {
        "id": "d2ef92fe"
      },
      "outputs": [],
      "source": [
        "news_data = pd.concat([politifact_fake_content,\n",
        "                       buzzfeed_fake_content, politifact_real_content,buzzfeed_real_content\n",
        "                      ])"
      ],
      "id": "d2ef92fe"
    },
    {
      "cell_type": "code",
      "execution_count": 40,
      "metadata": {
        "colab": {
          "base_uri": "https://localhost:8080/"
        },
        "id": "98062128",
        "outputId": "b6a43933-d202-4d48-d890-a096a922a189"
      },
      "outputs": [
        {
          "output_type": "execute_result",
          "data": {
            "text/plain": [
              "(422, 13)"
            ]
          },
          "metadata": {},
          "execution_count": 40
        }
      ],
      "source": [
        "news_data.shape"
      ],
      "id": "98062128"
    },
    {
      "cell_type": "code",
      "execution_count": 12,
      "metadata": {
        "colab": {
          "base_uri": "https://localhost:8080/",
          "height": 581
        },
        "id": "4fabddfb",
        "outputId": "d9c3582b-9009-4017-f6f4-161fe53f2f34"
      },
      "outputs": [
        {
          "output_type": "execute_result",
          "data": {
            "text/plain": [
              "                 id                                              title  \\\n",
              "0    Real_1-Webpage  Trump Just Insulted Millions Who Lost Everythi...   \n",
              "1   Real_10-Webpage  Famous dog killed in spot she waited a year fo...   \n",
              "2  Real_100-Webpage  House oversight panel votes Clinton IT chief i...   \n",
              "3  Real_101-Webpage  America Just Tragically Lost A Country Music I...   \n",
              "4  Real_102-Webpage          Monuments to the Battle for the New South   \n",
              "\n",
              "                                                text  \\\n",
              "0  16.8k SHARES SHARE THIS STORY\\n\\nHillary Clint...   \n",
              "1  Famous dog killed in spot she waited a year fo...   \n",
              "2  Story highlights The House Oversight panel vot...   \n",
              "3  We are absolutely heartbroken to hear about th...   \n",
              "4  Nine years ago, a driver lost control of his p...   \n",
              "\n",
              "                                                 url  \\\n",
              "0  http://occupydemocrats.com/2016/09/27/trump-ju...   \n",
              "1  http://rightwingnews.com/top-news/famous-dog-k...   \n",
              "2                              http://cnn.it/2deaH2d   \n",
              "3  http://newsbake.com/entertainment-news/music-e...   \n",
              "4                           http://politi.co/2dd9U1x   \n",
              "\n",
              "                                             top_img  \\\n",
              "0  http://occupydemocrats.com/wp-content/uploads/...   \n",
              "1  http://rightwingnews.com/wp-content/uploads/20...   \n",
              "2  http://i2.cdn.cnn.com/cnnnext/dam/assets/16091...   \n",
              "3  http://newsbake.com/wp-content/uploads/2016/05...   \n",
              "4  http://static.politico.com/25/ed/85332de14c45b...   \n",
              "\n",
              "                                             authors  \\\n",
              "0  Brett Bose,Grant Stern,Steve Bernstein,Natalie...   \n",
              "1                                                NaN   \n",
              "2                         Tom Lobianco,Deirdre Walsh   \n",
              "3                                        Nancy Wells   \n",
              "4                               Jack Shafer,Lisa Rab   \n",
              "\n",
              "                       source              publish_date  \\\n",
              "0  http://occupydemocrats.com  {'$date': 1474934400000}   \n",
              "1    http://rightwingnews.com  {'$date': 1474948336000}   \n",
              "2               http://cnn.it                       NaN   \n",
              "3         http://newsbake.com  {'$date': 1474898600000}   \n",
              "4            http://politi.co  {'$date': 1473941820000}   \n",
              "\n",
              "                                      movies  \\\n",
              "0                                        NaN   \n",
              "1                                        NaN   \n",
              "2                                        NaN   \n",
              "3  https://www.youtube.com/embed/8ozTJcu-_BU   \n",
              "4                                        NaN   \n",
              "\n",
              "                                              images  \\\n",
              "0  http://occupydemocrats.com/wp-content/uploads/...   \n",
              "1  http://rightwingnews.com/wp-content/uploads/20...   \n",
              "2  http://i2.cdn.cnn.com/cnnnext/dam/assets/17050...   \n",
              "3  http://0.gravatar.com/avatar/0d702c6042933cd78...   \n",
              "4  http://static.politico.com/25/ed/85332de14c45b...   \n",
              "\n",
              "                                      canonical_link  \\\n",
              "0  http://occupydemocrats.com/2016/09/27/trump-ju...   \n",
              "1  http://rightwingnews.com/top-news/famous-dog-k...   \n",
              "2  http://www.cnn.com/2016/09/22/politics/bryan-p...   \n",
              "3  http://newsbake.com/entertainment-news/music-e...   \n",
              "4  http://www.politico.com/magazine/story/2016/09...   \n",
              "\n",
              "                                           meta_data  label  \n",
              "0  {\"generator\": \"Powered by Visual Composer - dr...      0  \n",
              "1  {\"googlebot\": \"noimageindex\", \"og\": {\"site_nam...      0  \n",
              "2  {\"description\": \"Members of the House Oversigh...      0  \n",
              "3  {\"shareaholic\": {\"site_name\": \"NewsBake\", \"lan...      0  \n",
              "4  {\"description\": \"Virginia, increasingly divers...      0  "
            ],
            "text/html": [
              "\n",
              "  <div id=\"df-6b20ebc9-2491-4715-8f57-b71845b6d926\" class=\"colab-df-container\">\n",
              "    <div>\n",
              "<style scoped>\n",
              "    .dataframe tbody tr th:only-of-type {\n",
              "        vertical-align: middle;\n",
              "    }\n",
              "\n",
              "    .dataframe tbody tr th {\n",
              "        vertical-align: top;\n",
              "    }\n",
              "\n",
              "    .dataframe thead th {\n",
              "        text-align: right;\n",
              "    }\n",
              "</style>\n",
              "<table border=\"1\" class=\"dataframe\">\n",
              "  <thead>\n",
              "    <tr style=\"text-align: right;\">\n",
              "      <th></th>\n",
              "      <th>id</th>\n",
              "      <th>title</th>\n",
              "      <th>text</th>\n",
              "      <th>url</th>\n",
              "      <th>top_img</th>\n",
              "      <th>authors</th>\n",
              "      <th>source</th>\n",
              "      <th>publish_date</th>\n",
              "      <th>movies</th>\n",
              "      <th>images</th>\n",
              "      <th>canonical_link</th>\n",
              "      <th>meta_data</th>\n",
              "      <th>label</th>\n",
              "    </tr>\n",
              "  </thead>\n",
              "  <tbody>\n",
              "    <tr>\n",
              "      <th>0</th>\n",
              "      <td>Real_1-Webpage</td>\n",
              "      <td>Trump Just Insulted Millions Who Lost Everythi...</td>\n",
              "      <td>16.8k SHARES SHARE THIS STORY\\n\\nHillary Clint...</td>\n",
              "      <td>http://occupydemocrats.com/2016/09/27/trump-ju...</td>\n",
              "      <td>http://occupydemocrats.com/wp-content/uploads/...</td>\n",
              "      <td>Brett Bose,Grant Stern,Steve Bernstein,Natalie...</td>\n",
              "      <td>http://occupydemocrats.com</td>\n",
              "      <td>{'$date': 1474934400000}</td>\n",
              "      <td>NaN</td>\n",
              "      <td>http://occupydemocrats.com/wp-content/uploads/...</td>\n",
              "      <td>http://occupydemocrats.com/2016/09/27/trump-ju...</td>\n",
              "      <td>{\"generator\": \"Powered by Visual Composer - dr...</td>\n",
              "      <td>0</td>\n",
              "    </tr>\n",
              "    <tr>\n",
              "      <th>1</th>\n",
              "      <td>Real_10-Webpage</td>\n",
              "      <td>Famous dog killed in spot she waited a year fo...</td>\n",
              "      <td>Famous dog killed in spot she waited a year fo...</td>\n",
              "      <td>http://rightwingnews.com/top-news/famous-dog-k...</td>\n",
              "      <td>http://rightwingnews.com/wp-content/uploads/20...</td>\n",
              "      <td>NaN</td>\n",
              "      <td>http://rightwingnews.com</td>\n",
              "      <td>{'$date': 1474948336000}</td>\n",
              "      <td>NaN</td>\n",
              "      <td>http://rightwingnews.com/wp-content/uploads/20...</td>\n",
              "      <td>http://rightwingnews.com/top-news/famous-dog-k...</td>\n",
              "      <td>{\"googlebot\": \"noimageindex\", \"og\": {\"site_nam...</td>\n",
              "      <td>0</td>\n",
              "    </tr>\n",
              "    <tr>\n",
              "      <th>2</th>\n",
              "      <td>Real_100-Webpage</td>\n",
              "      <td>House oversight panel votes Clinton IT chief i...</td>\n",
              "      <td>Story highlights The House Oversight panel vot...</td>\n",
              "      <td>http://cnn.it/2deaH2d</td>\n",
              "      <td>http://i2.cdn.cnn.com/cnnnext/dam/assets/16091...</td>\n",
              "      <td>Tom Lobianco,Deirdre Walsh</td>\n",
              "      <td>http://cnn.it</td>\n",
              "      <td>NaN</td>\n",
              "      <td>NaN</td>\n",
              "      <td>http://i2.cdn.cnn.com/cnnnext/dam/assets/17050...</td>\n",
              "      <td>http://www.cnn.com/2016/09/22/politics/bryan-p...</td>\n",
              "      <td>{\"description\": \"Members of the House Oversigh...</td>\n",
              "      <td>0</td>\n",
              "    </tr>\n",
              "    <tr>\n",
              "      <th>3</th>\n",
              "      <td>Real_101-Webpage</td>\n",
              "      <td>America Just Tragically Lost A Country Music I...</td>\n",
              "      <td>We are absolutely heartbroken to hear about th...</td>\n",
              "      <td>http://newsbake.com/entertainment-news/music-e...</td>\n",
              "      <td>http://newsbake.com/wp-content/uploads/2016/05...</td>\n",
              "      <td>Nancy Wells</td>\n",
              "      <td>http://newsbake.com</td>\n",
              "      <td>{'$date': 1474898600000}</td>\n",
              "      <td>https://www.youtube.com/embed/8ozTJcu-_BU</td>\n",
              "      <td>http://0.gravatar.com/avatar/0d702c6042933cd78...</td>\n",
              "      <td>http://newsbake.com/entertainment-news/music-e...</td>\n",
              "      <td>{\"shareaholic\": {\"site_name\": \"NewsBake\", \"lan...</td>\n",
              "      <td>0</td>\n",
              "    </tr>\n",
              "    <tr>\n",
              "      <th>4</th>\n",
              "      <td>Real_102-Webpage</td>\n",
              "      <td>Monuments to the Battle for the New South</td>\n",
              "      <td>Nine years ago, a driver lost control of his p...</td>\n",
              "      <td>http://politi.co/2dd9U1x</td>\n",
              "      <td>http://static.politico.com/25/ed/85332de14c45b...</td>\n",
              "      <td>Jack Shafer,Lisa Rab</td>\n",
              "      <td>http://politi.co</td>\n",
              "      <td>{'$date': 1473941820000}</td>\n",
              "      <td>NaN</td>\n",
              "      <td>http://static.politico.com/25/ed/85332de14c45b...</td>\n",
              "      <td>http://www.politico.com/magazine/story/2016/09...</td>\n",
              "      <td>{\"description\": \"Virginia, increasingly divers...</td>\n",
              "      <td>0</td>\n",
              "    </tr>\n",
              "  </tbody>\n",
              "</table>\n",
              "</div>\n",
              "    <div class=\"colab-df-buttons\">\n",
              "\n",
              "  <div class=\"colab-df-container\">\n",
              "    <button class=\"colab-df-convert\" onclick=\"convertToInteractive('df-6b20ebc9-2491-4715-8f57-b71845b6d926')\"\n",
              "            title=\"Convert this dataframe to an interactive table.\"\n",
              "            style=\"display:none;\">\n",
              "\n",
              "  <svg xmlns=\"http://www.w3.org/2000/svg\" height=\"24px\" viewBox=\"0 -960 960 960\">\n",
              "    <path d=\"M120-120v-720h720v720H120Zm60-500h600v-160H180v160Zm220 220h160v-160H400v160Zm0 220h160v-160H400v160ZM180-400h160v-160H180v160Zm440 0h160v-160H620v160ZM180-180h160v-160H180v160Zm440 0h160v-160H620v160Z\"/>\n",
              "  </svg>\n",
              "    </button>\n",
              "\n",
              "  <style>\n",
              "    .colab-df-container {\n",
              "      display:flex;\n",
              "      gap: 12px;\n",
              "    }\n",
              "\n",
              "    .colab-df-convert {\n",
              "      background-color: #E8F0FE;\n",
              "      border: none;\n",
              "      border-radius: 50%;\n",
              "      cursor: pointer;\n",
              "      display: none;\n",
              "      fill: #1967D2;\n",
              "      height: 32px;\n",
              "      padding: 0 0 0 0;\n",
              "      width: 32px;\n",
              "    }\n",
              "\n",
              "    .colab-df-convert:hover {\n",
              "      background-color: #E2EBFA;\n",
              "      box-shadow: 0px 1px 2px rgba(60, 64, 67, 0.3), 0px 1px 3px 1px rgba(60, 64, 67, 0.15);\n",
              "      fill: #174EA6;\n",
              "    }\n",
              "\n",
              "    .colab-df-buttons div {\n",
              "      margin-bottom: 4px;\n",
              "    }\n",
              "\n",
              "    [theme=dark] .colab-df-convert {\n",
              "      background-color: #3B4455;\n",
              "      fill: #D2E3FC;\n",
              "    }\n",
              "\n",
              "    [theme=dark] .colab-df-convert:hover {\n",
              "      background-color: #434B5C;\n",
              "      box-shadow: 0px 1px 3px 1px rgba(0, 0, 0, 0.15);\n",
              "      filter: drop-shadow(0px 1px 2px rgba(0, 0, 0, 0.3));\n",
              "      fill: #FFFFFF;\n",
              "    }\n",
              "  </style>\n",
              "\n",
              "    <script>\n",
              "      const buttonEl =\n",
              "        document.querySelector('#df-6b20ebc9-2491-4715-8f57-b71845b6d926 button.colab-df-convert');\n",
              "      buttonEl.style.display =\n",
              "        google.colab.kernel.accessAllowed ? 'block' : 'none';\n",
              "\n",
              "      async function convertToInteractive(key) {\n",
              "        const element = document.querySelector('#df-6b20ebc9-2491-4715-8f57-b71845b6d926');\n",
              "        const dataTable =\n",
              "          await google.colab.kernel.invokeFunction('convertToInteractive',\n",
              "                                                    [key], {});\n",
              "        if (!dataTable) return;\n",
              "\n",
              "        const docLinkHtml = 'Like what you see? Visit the ' +\n",
              "          '<a target=\"_blank\" href=https://colab.research.google.com/notebooks/data_table.ipynb>data table notebook</a>'\n",
              "          + ' to learn more about interactive tables.';\n",
              "        element.innerHTML = '';\n",
              "        dataTable['output_type'] = 'display_data';\n",
              "        await google.colab.output.renderOutput(dataTable, element);\n",
              "        const docLink = document.createElement('div');\n",
              "        docLink.innerHTML = docLinkHtml;\n",
              "        element.appendChild(docLink);\n",
              "      }\n",
              "    </script>\n",
              "  </div>\n",
              "\n",
              "\n",
              "<div id=\"df-eda13478-f32f-44fd-9b0c-6dba37057a5b\">\n",
              "  <button class=\"colab-df-quickchart\" onclick=\"quickchart('df-eda13478-f32f-44fd-9b0c-6dba37057a5b')\"\n",
              "            title=\"Suggest charts.\"\n",
              "            style=\"display:none;\">\n",
              "\n",
              "<svg xmlns=\"http://www.w3.org/2000/svg\" height=\"24px\"viewBox=\"0 0 24 24\"\n",
              "     width=\"24px\">\n",
              "    <g>\n",
              "        <path d=\"M19 3H5c-1.1 0-2 .9-2 2v14c0 1.1.9 2 2 2h14c1.1 0 2-.9 2-2V5c0-1.1-.9-2-2-2zM9 17H7v-7h2v7zm4 0h-2V7h2v10zm4 0h-2v-4h2v4z\"/>\n",
              "    </g>\n",
              "</svg>\n",
              "  </button>\n",
              "\n",
              "<style>\n",
              "  .colab-df-quickchart {\n",
              "      --bg-color: #E8F0FE;\n",
              "      --fill-color: #1967D2;\n",
              "      --hover-bg-color: #E2EBFA;\n",
              "      --hover-fill-color: #174EA6;\n",
              "      --disabled-fill-color: #AAA;\n",
              "      --disabled-bg-color: #DDD;\n",
              "  }\n",
              "\n",
              "  [theme=dark] .colab-df-quickchart {\n",
              "      --bg-color: #3B4455;\n",
              "      --fill-color: #D2E3FC;\n",
              "      --hover-bg-color: #434B5C;\n",
              "      --hover-fill-color: #FFFFFF;\n",
              "      --disabled-bg-color: #3B4455;\n",
              "      --disabled-fill-color: #666;\n",
              "  }\n",
              "\n",
              "  .colab-df-quickchart {\n",
              "    background-color: var(--bg-color);\n",
              "    border: none;\n",
              "    border-radius: 50%;\n",
              "    cursor: pointer;\n",
              "    display: none;\n",
              "    fill: var(--fill-color);\n",
              "    height: 32px;\n",
              "    padding: 0;\n",
              "    width: 32px;\n",
              "  }\n",
              "\n",
              "  .colab-df-quickchart:hover {\n",
              "    background-color: var(--hover-bg-color);\n",
              "    box-shadow: 0 1px 2px rgba(60, 64, 67, 0.3), 0 1px 3px 1px rgba(60, 64, 67, 0.15);\n",
              "    fill: var(--button-hover-fill-color);\n",
              "  }\n",
              "\n",
              "  .colab-df-quickchart-complete:disabled,\n",
              "  .colab-df-quickchart-complete:disabled:hover {\n",
              "    background-color: var(--disabled-bg-color);\n",
              "    fill: var(--disabled-fill-color);\n",
              "    box-shadow: none;\n",
              "  }\n",
              "\n",
              "  .colab-df-spinner {\n",
              "    border: 2px solid var(--fill-color);\n",
              "    border-color: transparent;\n",
              "    border-bottom-color: var(--fill-color);\n",
              "    animation:\n",
              "      spin 1s steps(1) infinite;\n",
              "  }\n",
              "\n",
              "  @keyframes spin {\n",
              "    0% {\n",
              "      border-color: transparent;\n",
              "      border-bottom-color: var(--fill-color);\n",
              "      border-left-color: var(--fill-color);\n",
              "    }\n",
              "    20% {\n",
              "      border-color: transparent;\n",
              "      border-left-color: var(--fill-color);\n",
              "      border-top-color: var(--fill-color);\n",
              "    }\n",
              "    30% {\n",
              "      border-color: transparent;\n",
              "      border-left-color: var(--fill-color);\n",
              "      border-top-color: var(--fill-color);\n",
              "      border-right-color: var(--fill-color);\n",
              "    }\n",
              "    40% {\n",
              "      border-color: transparent;\n",
              "      border-right-color: var(--fill-color);\n",
              "      border-top-color: var(--fill-color);\n",
              "    }\n",
              "    60% {\n",
              "      border-color: transparent;\n",
              "      border-right-color: var(--fill-color);\n",
              "    }\n",
              "    80% {\n",
              "      border-color: transparent;\n",
              "      border-right-color: var(--fill-color);\n",
              "      border-bottom-color: var(--fill-color);\n",
              "    }\n",
              "    90% {\n",
              "      border-color: transparent;\n",
              "      border-bottom-color: var(--fill-color);\n",
              "    }\n",
              "  }\n",
              "</style>\n",
              "\n",
              "  <script>\n",
              "    async function quickchart(key) {\n",
              "      const quickchartButtonEl =\n",
              "        document.querySelector('#' + key + ' button');\n",
              "      quickchartButtonEl.disabled = true;  // To prevent multiple clicks.\n",
              "      quickchartButtonEl.classList.add('colab-df-spinner');\n",
              "      try {\n",
              "        const charts = await google.colab.kernel.invokeFunction(\n",
              "            'suggestCharts', [key], {});\n",
              "      } catch (error) {\n",
              "        console.error('Error during call to suggestCharts:', error);\n",
              "      }\n",
              "      quickchartButtonEl.classList.remove('colab-df-spinner');\n",
              "      quickchartButtonEl.classList.add('colab-df-quickchart-complete');\n",
              "    }\n",
              "    (() => {\n",
              "      let quickchartButtonEl =\n",
              "        document.querySelector('#df-eda13478-f32f-44fd-9b0c-6dba37057a5b button');\n",
              "      quickchartButtonEl.style.display =\n",
              "        google.colab.kernel.accessAllowed ? 'block' : 'none';\n",
              "    })();\n",
              "  </script>\n",
              "</div>\n",
              "    </div>\n",
              "  </div>\n"
            ]
          },
          "metadata": {},
          "execution_count": 12
        }
      ],
      "source": [
        "news_data.head()"
      ],
      "id": "4fabddfb"
    },
    {
      "cell_type": "code",
      "source": [],
      "metadata": {
        "id": "4Nv69dYynqr_"
      },
      "id": "4Nv69dYynqr_",
      "execution_count": null,
      "outputs": []
    },
    {
      "cell_type": "markdown",
      "metadata": {
        "id": "35b85db3"
      },
      "source": [
        "Split data into train and test sets"
      ],
      "id": "35b85db3"
    },
    {
      "cell_type": "code",
      "execution_count": 41,
      "metadata": {
        "colab": {
          "base_uri": "https://localhost:8080/"
        },
        "id": "DggP1Zqwu4LG",
        "outputId": "f0ac5d62-bf96-4988-eb7e-c6adb7d7ea43"
      },
      "outputs": [
        {
          "output_type": "execute_result",
          "data": {
            "text/plain": [
              "0     0\n",
              "1     0\n",
              "2     0\n",
              "3     0\n",
              "4     0\n",
              "     ..\n",
              "86    1\n",
              "87    1\n",
              "88    1\n",
              "89    1\n",
              "90    1\n",
              "Name: label, Length: 422, dtype: int64"
            ]
          },
          "metadata": {},
          "execution_count": 41
        }
      ],
      "source": [
        "labels = news_data['label']\n",
        "labels"
      ],
      "id": "DggP1Zqwu4LG"
    },
    {
      "cell_type": "code",
      "source": [
        "print(labels.to_list())"
      ],
      "metadata": {
        "colab": {
          "base_uri": "https://localhost:8080/"
        },
        "id": "vI2Hf6TTCqH5",
        "outputId": "5c709a92-24a7-4f25-ec25-0f921d3a6477"
      },
      "id": "vI2Hf6TTCqH5",
      "execution_count": 42,
      "outputs": [
        {
          "output_type": "stream",
          "name": "stdout",
          "text": [
            "[0, 0, 0, 0, 0, 0, 0, 0, 0, 0, 0, 0, 0, 0, 0, 0, 0, 0, 0, 0, 0, 0, 0, 0, 0, 0, 0, 0, 0, 0, 0, 0, 0, 0, 0, 0, 0, 0, 0, 0, 0, 0, 0, 0, 0, 0, 0, 0, 0, 0, 0, 0, 0, 0, 0, 0, 0, 0, 0, 0, 0, 0, 0, 0, 0, 0, 0, 0, 0, 0, 0, 0, 0, 0, 0, 0, 0, 0, 0, 0, 0, 0, 0, 0, 0, 0, 0, 0, 0, 0, 0, 0, 0, 0, 0, 0, 0, 0, 0, 0, 0, 0, 0, 0, 0, 0, 0, 0, 0, 0, 0, 0, 0, 0, 0, 0, 0, 0, 0, 0, 0, 0, 0, 0, 0, 0, 0, 0, 0, 0, 0, 0, 0, 0, 0, 0, 0, 0, 0, 0, 0, 0, 0, 0, 0, 0, 0, 0, 0, 0, 0, 0, 0, 0, 0, 0, 0, 0, 0, 0, 0, 0, 0, 0, 0, 0, 0, 0, 0, 0, 0, 0, 0, 0, 0, 0, 0, 0, 0, 0, 0, 0, 0, 0, 0, 0, 0, 0, 0, 0, 0, 0, 0, 0, 0, 0, 0, 0, 0, 0, 0, 0, 0, 0, 0, 0, 0, 0, 0, 0, 0, 1, 1, 1, 1, 1, 1, 1, 1, 1, 1, 1, 1, 1, 1, 1, 1, 1, 1, 1, 1, 1, 1, 1, 1, 1, 1, 1, 1, 1, 1, 1, 1, 1, 1, 1, 1, 1, 1, 1, 1, 1, 1, 1, 1, 1, 1, 1, 1, 1, 1, 1, 1, 1, 1, 1, 1, 1, 1, 1, 1, 1, 1, 1, 1, 1, 1, 1, 1, 1, 1, 1, 1, 1, 1, 1, 1, 1, 1, 1, 1, 1, 1, 1, 1, 1, 1, 1, 1, 1, 1, 1, 1, 1, 1, 1, 1, 1, 1, 1, 1, 1, 1, 1, 1, 1, 1, 1, 1, 1, 1, 1, 1, 1, 1, 1, 1, 1, 1, 1, 1, 1, 1, 1, 1, 1, 1, 1, 1, 1, 1, 1, 1, 1, 1, 1, 1, 1, 1, 1, 1, 1, 1, 1, 1, 1, 1, 1, 1, 1, 1, 1, 1, 1, 1, 1, 1, 1, 1, 1, 1, 1, 1, 1, 1, 1, 1, 1, 1, 1, 1, 1, 1, 1, 1, 1, 1, 1, 1, 1, 1, 1, 1, 1, 1, 1, 1, 1, 1, 1, 1, 1, 1, 1, 1, 1, 1, 1, 1, 1, 1, 1, 1, 1, 1, 1, 1, 1, 1, 1, 1, 1]\n"
          ]
        }
      ]
    },
    {
      "cell_type": "code",
      "execution_count": 43,
      "metadata": {
        "id": "uZ6C_A_MvPxs"
      },
      "outputs": [],
      "source": [
        "news_data['combined_text'] = news_data.title + ' ' + news_data.text"
      ],
      "id": "uZ6C_A_MvPxs"
    },
    {
      "cell_type": "code",
      "execution_count": 44,
      "metadata": {
        "id": "0X-uBMht0Akl"
      },
      "outputs": [],
      "source": [
        "text_data = news_data['combined_text'].to_list()"
      ],
      "id": "0X-uBMht0Akl"
    },
    {
      "cell_type": "code",
      "source": [
        "print(len(text_data))"
      ],
      "metadata": {
        "colab": {
          "base_uri": "https://localhost:8080/"
        },
        "id": "3G1v7rH_Gmy9",
        "outputId": "86e46cf0-4558-4c8e-f798-73c3b957fea0"
      },
      "id": "3G1v7rH_Gmy9",
      "execution_count": 18,
      "outputs": [
        {
          "output_type": "stream",
          "name": "stdout",
          "text": [
            "422\n"
          ]
        }
      ]
    },
    {
      "cell_type": "code",
      "source": [],
      "metadata": {
        "id": "4JEWqHFGCSMH"
      },
      "id": "4JEWqHFGCSMH",
      "execution_count": null,
      "outputs": []
    },
    {
      "cell_type": "markdown",
      "metadata": {
        "id": "0cdc4d57"
      },
      "source": [
        "Cleaning data"
      ],
      "id": "0cdc4d57"
    },
    {
      "cell_type": "code",
      "source": [
        "data_text_lower = []\n",
        "for i in range(len(text_data)):\n",
        "  data_text_lower.append(text_data[i].lower())\n",
        "data_text_lower[10]"
      ],
      "metadata": {
        "colab": {
          "base_uri": "https://localhost:8080/",
          "height": 123
        },
        "id": "juR-2dMdpuq6",
        "outputId": "6c80a813-4cf3-43bc-b673-b48d037ce0ce"
      },
      "id": "juR-2dMdpuq6",
      "execution_count": 45,
      "outputs": [
        {
          "output_type": "execute_result",
          "data": {
            "text/plain": [
              "'ny gov. andrew cuomo disputes trump\\'s claim cops are \\'afraid\\' to do their jobs story highlights \"i don\\'t know how you could have been more aggressive than we were here,\" cuomo said\\n\\nahmad khan rahami was captured monday after a manhunt and shootout\\n\\nwashington (cnn) new york gov. andrew cuomo said tuesday that republican presidential candidate donald trump is wrong to suggest that the new york bombing suspect shouldn\\'t receive medical care.\\n\\n\"i understand the anger that donald trump is speaking to (but) this is america and this is our system and you are innocent until proven guilty and you have a right to counsel and that is the constitution of the united states of america,\" he said on cnn\\'s \"new day.\"\\n\\n\"and that\\'s what makes us who we are. that\\'s what makes us special. and if you give that up, alisyn, then you have defeated yourself,\" cuomo, a democrat who has endorsed hillary clinton for president this cycle, told cnn\\'s alisyn camerota. \"that is the code of democracy and freedom. that is what they resent about us. so don\\'t lose your soul in the process. because that is the soul of america.\"\\n\\ntrump complained monday about ahmad khan rahami being offered medical treatment and legal assistance following his shootout with police. rahami, the suspect in saturday\\'s bombings in new york and new jersey, was captured monday. following a frantic manhunt and shootout, rahami was shot multiple times before being taken to a hospital for surgery.\\n\\n\"he will be taken care of by some of the best doctors in the world. he will be given a fully modern and updated hospital room. and he will probably even have room service, knowing the way our country is. and on top of all of that, he will be represented by an outstanding lawyer,\" trump said at a florida rally.\\n\\nread more'"
            ],
            "application/vnd.google.colaboratory.intrinsic+json": {
              "type": "string"
            }
          },
          "metadata": {},
          "execution_count": 45
        }
      ]
    },
    {
      "cell_type": "code",
      "source": [
        "datanew = list(data_text_lower)"
      ],
      "metadata": {
        "id": "9PVhRs9qW4x6"
      },
      "id": "9PVhRs9qW4x6",
      "execution_count": 46,
      "outputs": []
    },
    {
      "cell_type": "code",
      "source": [
        "import nltk\n",
        "from nltk.corpus import stopwords\n",
        "\n",
        "\n",
        "# Download the NLTK stopwords dataset if you haven't already\n",
        "nltk.download('stopwords')\n",
        "\n",
        "# Get the list of English stopwords\n",
        "stop_words = set(stopwords.words('english'))\n",
        "\n",
        "# Function to remove stopwords from a single sentence\n",
        "def remove_stopwords(sentence):\n",
        "    words = sentence.split()\n",
        "    filtered_words = [word for word in words if word.lower() not in stop_words]\n",
        "    return ' '.join(filtered_words)\n",
        "\n",
        "# Remove stopwords from each sentence in the dataset\n",
        "filtered_data = [remove_stopwords(sentence) for sentence in datanew]"
      ],
      "metadata": {
        "colab": {
          "base_uri": "https://localhost:8080/"
        },
        "id": "R7IEm1PzW3UB",
        "outputId": "c7433ab4-90ed-4aa7-faec-379a02652967"
      },
      "id": "R7IEm1PzW3UB",
      "execution_count": 47,
      "outputs": [
        {
          "output_type": "stream",
          "name": "stderr",
          "text": [
            "[nltk_data] Downloading package stopwords to /root/nltk_data...\n",
            "[nltk_data]   Package stopwords is already up-to-date!\n"
          ]
        }
      ]
    },
    {
      "cell_type": "code",
      "source": [
        "print(len(filtered_data))"
      ],
      "metadata": {
        "colab": {
          "base_uri": "https://localhost:8080/"
        },
        "id": "iZzZveO8Ya9x",
        "outputId": "0de3da5d-de7a-490f-ff11-ce24d29bd80e"
      },
      "id": "iZzZveO8Ya9x",
      "execution_count": 48,
      "outputs": [
        {
          "output_type": "stream",
          "name": "stdout",
          "text": [
            "422\n"
          ]
        }
      ]
    },
    {
      "cell_type": "code",
      "source": [
        "len(labels)"
      ],
      "metadata": {
        "colab": {
          "base_uri": "https://localhost:8080/"
        },
        "id": "gNHctHZvZBqK",
        "outputId": "b612f7ee-8551-4d24-f1c0-2aea1b26f2b1"
      },
      "id": "gNHctHZvZBqK",
      "execution_count": 49,
      "outputs": [
        {
          "output_type": "execute_result",
          "data": {
            "text/plain": [
              "422"
            ]
          },
          "metadata": {},
          "execution_count": 49
        }
      ]
    },
    {
      "cell_type": "code",
      "source": [
        "X_train, X_test, y_train, y_test = train_test_split( filtered_data,labels, test_size=0.20)"
      ],
      "metadata": {
        "id": "d554m15Xx-PD"
      },
      "id": "d554m15Xx-PD",
      "execution_count": 50,
      "outputs": []
    },
    {
      "cell_type": "markdown",
      "metadata": {
        "id": "368baeaa"
      },
      "source": [
        "# Tokenization and Data Loading, Model Building, Training, and Evaluation"
      ],
      "id": "368baeaa"
    },
    {
      "cell_type": "code",
      "source": [
        "# Load the pre-trained BERT model\n",
        "model_name = \"roberta-base\"\n",
        "tokenizer = AutoTokenizer.from_pretrained(model_name)\n",
        "model = AutoModelForSequenceClassification.from_pretrained(model_name)"
      ],
      "metadata": {
        "colab": {
          "base_uri": "https://localhost:8080/"
        },
        "id": "_1TJ8W3kr6Ir",
        "outputId": "414e80f9-d87e-4561-f3a3-2679234f7d27"
      },
      "id": "_1TJ8W3kr6Ir",
      "execution_count": 51,
      "outputs": [
        {
          "output_type": "stream",
          "name": "stderr",
          "text": [
            "Some weights of RobertaForSequenceClassification were not initialized from the model checkpoint at roberta-base and are newly initialized: ['classifier.dense.bias', 'classifier.dense.weight', 'classifier.out_proj.weight', 'classifier.out_proj.bias']\n",
            "You should probably TRAIN this model on a down-stream task to be able to use it for predictions and inference.\n"
          ]
        }
      ]
    },
    {
      "cell_type": "markdown",
      "metadata": {
        "id": "3f7fe308"
      },
      "source": [
        " Tokenize and convert to tensors"
      ],
      "id": "3f7fe308"
    },
    {
      "cell_type": "code",
      "execution_count": 52,
      "metadata": {
        "id": "56633cf5"
      },
      "outputs": [],
      "source": [
        "def tokenize_text(text, max_length):\n",
        "    return tokenizer(text, padding='max_length', truncation=True, max_length=max_length, return_tensors='pt')\n",
        "\n",
        "max_length = 128\n",
        "train_texts = list(X_train)\n",
        "test_texts = list(X_test)\n",
        "\n",
        "train_encodings = tokenize_text(train_texts, max_length)\n",
        "test_encodings = tokenize_text(test_texts, max_length)\n",
        "\n",
        "train_labels = torch.tensor(list(y_train))\n",
        "test_labels = torch.tensor(list(y_test))"
      ],
      "id": "56633cf5"
    },
    {
      "cell_type": "code",
      "execution_count": 27,
      "metadata": {
        "colab": {
          "base_uri": "https://localhost:8080/"
        },
        "id": "of29cdqpn40q",
        "outputId": "5ce2cf45-1b26-4a34-f92b-976c1512ace4"
      },
      "outputs": [
        {
          "output_type": "execute_result",
          "data": {
            "text/plain": [
              "tensor([[    0,  9981, 20985,  ...,  1538,   295,     2],\n",
              "        [    0, 45397,    35,  ...,   400,  1986,     2],\n",
              "        [    0, 10536,    35,  ...,   627,  2369,     2],\n",
              "        ...,\n",
              "        [    0, 24139, 20125,  ...,  1846,  2021,     2],\n",
              "        [    0, 31372, 11721,  ...,     4,   951,     2],\n",
              "        [    0, 38060,   637,  ...,     4,    67,     2]])"
            ]
          },
          "metadata": {},
          "execution_count": 27
        }
      ],
      "source": [
        "train_encodings.input_ids"
      ],
      "id": "of29cdqpn40q"
    },
    {
      "cell_type": "markdown",
      "metadata": {
        "id": "abca0e0f"
      },
      "source": [
        "Loss and optimizer"
      ],
      "id": "abca0e0f"
    },
    {
      "cell_type": "code",
      "execution_count": 53,
      "metadata": {
        "id": "1e9e85e4"
      },
      "outputs": [],
      "source": [
        "criterion = nn.BCEWithLogitsLoss()\n",
        "optimizer = optim.Adam(model.parameters(), lr=2e-05)"
      ],
      "id": "1e9e85e4"
    },
    {
      "cell_type": "markdown",
      "metadata": {
        "id": "df751edf"
      },
      "source": [
        "Training"
      ],
      "id": "df751edf"
    },
    {
      "cell_type": "code",
      "execution_count": 54,
      "metadata": {
        "colab": {
          "base_uri": "https://localhost:8080/"
        },
        "id": "NLY85B3SvAJW",
        "outputId": "98b9355f-4205-48a4-afc4-1523dd37d2f6"
      },
      "outputs": [
        {
          "output_type": "stream",
          "name": "stdout",
          "text": [
            "Epoch [1/5], Loss: 0.7038\n",
            "Epoch [2/5], Loss: 0.6941\n",
            "Epoch [3/5], Loss: 0.6851\n",
            "Epoch [4/5], Loss: 0.6888\n",
            "Epoch [5/5], Loss: 0.6834\n",
            "Training complete.\n"
          ]
        }
      ],
      "source": [
        "# Define hyperparameters\n",
        "num_epochs = 5\n",
        "batch_size = 64\n",
        "\n",
        "# Create DataLoader for training data\n",
        "train_dataset = torch.utils.data.TensorDataset(train_encodings.input_ids, train_encodings.attention_mask, train_labels)\n",
        "train_loader = torch.utils.data.DataLoader(train_dataset, batch_size=batch_size, shuffle=True)\n",
        "\n",
        "# Check and set device (GPU or CPU)\n",
        "device = torch.device(\"cuda\" if torch.cuda.is_available() else \"cpu\")\n",
        "model.to(device)  # Move the model to the selected device\n",
        "\n",
        "# Training loop\n",
        "for epoch in range(num_epochs):\n",
        "    model.train()  # Set the model to training mode\n",
        "    total_loss = 0.0  # Initialize total loss for this epoch\n",
        "\n",
        "    for batch in train_loader:\n",
        "        input_ids, attention_mask, labels = batch\n",
        "        input_ids, attention_mask, labels = input_ids.to(device), attention_mask.to(device), labels.to(device)\n",
        "\n",
        "        # Clear gradients\n",
        "        optimizer.zero_grad()\n",
        "\n",
        "        # Forward pass\n",
        "        outputs = model(input_ids, attention_mask=attention_mask, labels=labels)\n",
        "\n",
        "        # Compute loss\n",
        "        loss = outputs.loss\n",
        "        total_loss += loss.item()  # Accumulate the loss for this batch\n",
        "\n",
        "        # Backward pass and optimization\n",
        "        loss.backward()\n",
        "        optimizer.step()\n",
        "\n",
        "    # Calculate the average loss for this epoch\n",
        "    average_loss = total_loss / len(train_loader)\n",
        "\n",
        "    # Print epoch-wise information\n",
        "    print(f'Epoch [{epoch+1}/{num_epochs}], Loss: {average_loss:.4f}')\n",
        "print(\"Training complete.\")"
      ],
      "id": "NLY85B3SvAJW"
    },
    {
      "cell_type": "markdown",
      "metadata": {
        "id": "fcaab986"
      },
      "source": [
        "Evaluation"
      ],
      "id": "fcaab986"
    },
    {
      "cell_type": "code",
      "execution_count": 55,
      "metadata": {
        "colab": {
          "base_uri": "https://localhost:8080/"
        },
        "id": "7fe01b90",
        "outputId": "b7e97d96-29e0-4bc9-e0a9-81328207dbd0"
      },
      "outputs": [
        {
          "output_type": "stream",
          "name": "stdout",
          "text": [
            "Accuracy: 0.5412, Precision: 0.5067, Recall: 0.9500, F1-Score: 0.6609\n"
          ]
        }
      ],
      "source": [
        "model.eval()\n",
        "with torch.no_grad():\n",
        "    test_input_ids = test_encodings.input_ids.to(device)\n",
        "    test_attention_mask = test_encodings.attention_mask.to(device)\n",
        "    test_labels = test_labels.to(device)\n",
        "    test_outputs = model(test_input_ids, attention_mask=test_attention_mask)\n",
        "    test_preds = test_outputs.logits.argmax(dim=1)\n",
        "\n",
        "acc = accuracy_score(test_labels.cpu().numpy(), test_preds.cpu().numpy())\n",
        "precision = precision_score(test_labels.cpu().numpy(), test_preds.cpu().numpy(),zero_division=1)\n",
        "recall = recall_score(test_labels.cpu().numpy(), test_preds.cpu().numpy(),zero_division=1)\n",
        "f1 = f1_score(test_labels.cpu().numpy(), test_preds.cpu().numpy(),zero_division=1)\n",
        "\n",
        "print(f\"Accuracy: {acc:.4f}, Precision: {precision:.4f}, Recall: {recall:.4f}, F1-Score: {f1:.4f}\")"
      ],
      "id": "7fe01b90"
    }
  ],
  "metadata": {
    "colab": {
      "provenance": [],
      "gpuType": "T4"
    },
    "kernelspec": {
      "display_name": "Python 3",
      "name": "python3"
    },
    "language_info": {
      "codemirror_mode": {
        "name": "ipython",
        "version": 3
      },
      "file_extension": ".py",
      "mimetype": "text/x-python",
      "name": "python",
      "nbconvert_exporter": "python",
      "pygments_lexer": "ipython3",
      "version": "3.9.13"
    },
    "accelerator": "GPU"
  },
  "nbformat": 4,
  "nbformat_minor": 5
}